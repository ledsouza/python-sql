{
  "cells": [
    {
      "cell_type": "markdown",
      "metadata": {
        "id": "a-3R8AqasmHw"
      },
      "source": [
        "![Alt text: Slogan da Meteora.](https://i.imgur.com/VDYh2G1.png)"
      ]
    },
    {
      "cell_type": "markdown",
      "metadata": {
        "id": "_Vevz6MGruh_"
      },
      "source": [
        "# 1. Estruturando a tabela"
      ]
    },
    {
      "cell_type": "markdown",
      "metadata": {
        "id": "y4QPCEacpVmB"
      },
      "source": [
        "**Meteora** é uma loja que vende roupas e acessórios de diversas marcas por todos os estados do Brasil, para entender suas bases de dados e exibir informações relevantes com o objetivo de auxiliar suas tomadas de decisão."
      ]
    },
    {
      "cell_type": "code",
      "execution_count": 1,
      "metadata": {
        "id": "_z4zLD8Jxq2n"
      },
      "outputs": [],
      "source": [
        "import matplotlib.pyplot as plt\n",
        "import pandas as pd\n",
        "from sqlalchemy import create_engine, inspect, text"
      ]
    },
    {
      "cell_type": "markdown",
      "metadata": {
        "id": "GFTMs-TgufBk"
      },
      "source": [
        "**Sobre as tabelas**\n",
        "\n",
        "* itens_pedidos: tabela que informa sobre o que foi vendido, vai ter informação o preço, quantidade, para onde vai ser enviado e o frete do pedido\n",
        "* pedidos: vai falar sobre a venda feita, tendo informação sobre os vendedores, preço do pedido e a data da venda\n",
        "* produtos: informa características dos produtos que são comercializados na loja\n",
        "* vendedores: informa o nome dos vendedores."
      ]
    },
    {
      "cell_type": "code",
      "execution_count": 3,
      "metadata": {
        "id": "JloX5KfQmSOC"
      },
      "outputs": [],
      "source": [
        "url_itens_pedidos = 'https://github.com/alura-cursos/SQL-python-integracao/raw/main/TABELAS/itens_pedidos.csv'\n",
        "url_pedidos = 'https://github.com/alura-cursos/SQL-python-integracao/raw/main/TABELAS/pedidos.csv'\n",
        "url_produto = 'https://github.com/alura-cursos/SQL-python-integracao/raw/main/TABELAS/produtos.csv'\n",
        "url_vendedores = 'https://github.com/alura-cursos/SQL-python-integracao/raw/main/TABELAS/vendedores.csv'"
      ]
    },
    {
      "cell_type": "code",
      "execution_count": 4,
      "metadata": {
        "id": "yhzPXpIax7tC"
      },
      "outputs": [],
      "source": [
        "itens_pedidos = pd.read_csv(url_itens_pedidos)\n",
        "pedidos = pd.read_csv(url_pedidos)\n",
        "produtos = pd.read_csv(url_produto)\n",
        "vendedores = pd.read_csv(url_vendedores)"
      ]
    },
    {
      "cell_type": "code",
      "execution_count": 5,
      "metadata": {
        "id": "zSKtRJGax7jH"
      },
      "outputs": [],
      "source": [
        "engine = create_engine('sqlite:///:memory:')"
      ]
    },
    {
      "cell_type": "code",
      "execution_count": 6,
      "metadata": {
        "id": "ICBTNNq3x7aG"
      },
      "outputs": [
        {
          "data": {
            "text/plain": [
              "5"
            ]
          },
          "execution_count": 6,
          "metadata": {},
          "output_type": "execute_result"
        }
      ],
      "source": [
        "produtos.to_sql('produtos', engine, index=False)\n",
        "itens_pedidos.to_sql('itens_pedidos', engine, index=False)\n",
        "pedidos.to_sql('pedidos', engine, index=False)\n",
        "vendedores.to_sql('vendedores', engine, index=False)"
      ]
    },
    {
      "cell_type": "code",
      "execution_count": 7,
      "metadata": {
        "id": "VifcW3lmx7Rr"
      },
      "outputs": [
        {
          "name": "stdout",
          "output_type": "stream",
          "text": [
            "['itens_pedidos', 'pedidos', 'produtos', 'vendedores']\n"
          ]
        }
      ],
      "source": [
        "inspector = inspect(engine)\n",
        "print(inspector.get_table_names())"
      ]
    },
    {
      "cell_type": "markdown",
      "metadata": {
        "id": "buAzY0lKrueq"
      },
      "source": [
        "# 2. Primeiras consultas"
      ]
    },
    {
      "cell_type": "markdown",
      "metadata": {
        "id": "3GpQpQc_wlVc"
      },
      "source": [
        "Vamos entender a característica do produto que é comercializadora na Meteora, analisando a **condição** dos produtos vendidos."
      ]
    },
    {
      "cell_type": "code",
      "execution_count": 8,
      "metadata": {
        "id": "K-LFgmVHxOgO"
      },
      "outputs": [],
      "source": [
        "query = 'SELECT CONDICAO FROM PRODUTOS'"
      ]
    },
    {
      "cell_type": "code",
      "execution_count": 9,
      "metadata": {
        "id": "cQ50zFn_xOWW"
      },
      "outputs": [
        {
          "data": {
            "text/html": [
              "<div>\n",
              "<style scoped>\n",
              "    .dataframe tbody tr th:only-of-type {\n",
              "        vertical-align: middle;\n",
              "    }\n",
              "\n",
              "    .dataframe tbody tr th {\n",
              "        vertical-align: top;\n",
              "    }\n",
              "\n",
              "    .dataframe thead th {\n",
              "        text-align: right;\n",
              "    }\n",
              "</style>\n",
              "<table border=\"1\" class=\"dataframe\">\n",
              "  <thead>\n",
              "    <tr style=\"text-align: right;\">\n",
              "      <th></th>\n",
              "      <th>Condicao</th>\n",
              "    </tr>\n",
              "  </thead>\n",
              "  <tbody>\n",
              "    <tr>\n",
              "      <th>0</th>\n",
              "      <td>Usado</td>\n",
              "    </tr>\n",
              "    <tr>\n",
              "      <th>1</th>\n",
              "      <td>Usado</td>\n",
              "    </tr>\n",
              "    <tr>\n",
              "      <th>2</th>\n",
              "      <td>Usado</td>\n",
              "    </tr>\n",
              "    <tr>\n",
              "      <th>3</th>\n",
              "      <td>Usado</td>\n",
              "    </tr>\n",
              "    <tr>\n",
              "      <th>4</th>\n",
              "      <td>Usado</td>\n",
              "    </tr>\n",
              "    <tr>\n",
              "      <th>...</th>\n",
              "      <td>...</td>\n",
              "    </tr>\n",
              "    <tr>\n",
              "      <th>200</th>\n",
              "      <td>Usado</td>\n",
              "    </tr>\n",
              "    <tr>\n",
              "      <th>201</th>\n",
              "      <td>Usado</td>\n",
              "    </tr>\n",
              "    <tr>\n",
              "      <th>202</th>\n",
              "      <td>Usado</td>\n",
              "    </tr>\n",
              "    <tr>\n",
              "      <th>203</th>\n",
              "      <td>Usado</td>\n",
              "    </tr>\n",
              "    <tr>\n",
              "      <th>204</th>\n",
              "      <td>Novo com etiqueta</td>\n",
              "    </tr>\n",
              "  </tbody>\n",
              "</table>\n",
              "<p>205 rows × 1 columns</p>\n",
              "</div>"
            ],
            "text/plain": [
              "              Condicao\n",
              "0                Usado\n",
              "1                Usado\n",
              "2                Usado\n",
              "3                Usado\n",
              "4                Usado\n",
              "..                 ...\n",
              "200              Usado\n",
              "201              Usado\n",
              "202              Usado\n",
              "203              Usado\n",
              "204  Novo com etiqueta\n",
              "\n",
              "[205 rows x 1 columns]"
            ]
          },
          "execution_count": 9,
          "metadata": {},
          "output_type": "execute_result"
        }
      ],
      "source": [
        "with engine.connect() as conexao:\n",
        "  consulta = conexao.execute(text(query))\n",
        "  dados = consulta.fetchall()\n",
        "\n",
        "pd.DataFrame(dados,columns=consulta.keys())"
      ]
    },
    {
      "cell_type": "code",
      "execution_count": null,
      "metadata": {
        "id": "o-6bbZOsxOJl"
      },
      "outputs": [],
      "source": [
        "def sql_df(query: str) -> pd.DataFrame:\n",
        "    \"\"\"\n",
        "    Executes a SQL query and returns the result as a pandas DataFrame.\n",
        "\n",
        "    Parameters:\n",
        "    query (str): The SQL query to be executed.\n",
        "\n",
        "    Returns:\n",
        "    pd.DataFrame: The result of the SQL query as a pandas DataFrame.\n",
        "    \"\"\"\n",
        "    with engine.connect() as conexao:\n",
        "        consulta = conexao.execute(text(query))\n",
        "        dados = consulta.fetchall()\n",
        "    \n",
        "    return pd.DataFrame(dados,columns=consulta.keys())"
      ]
    },
    {
      "cell_type": "code",
      "execution_count": null,
      "metadata": {
        "id": "BfJH2fqvxN2H"
      },
      "outputs": [],
      "source": []
    },
    {
      "cell_type": "markdown",
      "metadata": {
        "id": "hjrfeRPn1NbY"
      },
      "source": [
        "Agora precisamos ranquear os produtos que mais foram pedidos por **quantidade** para entender a necessidade de um estoque de produtos na loja."
      ]
    },
    {
      "cell_type": "code",
      "execution_count": null,
      "metadata": {
        "id": "hZ6znHyEQJGp"
      },
      "outputs": [],
      "source": []
    },
    {
      "cell_type": "code",
      "execution_count": null,
      "metadata": {
        "id": "s45ciT3xQI_U"
      },
      "outputs": [],
      "source": []
    },
    {
      "cell_type": "code",
      "execution_count": null,
      "metadata": {
        "id": "fzMrr5FWQI2i"
      },
      "outputs": [],
      "source": []
    },
    {
      "cell_type": "code",
      "execution_count": null,
      "metadata": {
        "id": "zfEGCbCGQIuV"
      },
      "outputs": [],
      "source": []
    },
    {
      "cell_type": "markdown",
      "metadata": {
        "id": "c8k9ik5brubo"
      },
      "source": [
        "# 3. Lidando com filtro"
      ]
    },
    {
      "cell_type": "markdown",
      "metadata": {
        "id": "6QhdhGf33MD6"
      },
      "source": [
        "Vamos iniciar uma análise de desempenho do **time de vendedores** da Meteora. A intenção aqui é entender como se deram as vendas dos vendedores no **ano anterior** para que possam ser aplicadas promoções e bônus salarial para a equipe no ano atual da tabela que é 2021"
      ]
    },
    {
      "cell_type": "code",
      "execution_count": null,
      "metadata": {
        "id": "9crosa9yP_pe"
      },
      "outputs": [],
      "source": []
    },
    {
      "cell_type": "code",
      "execution_count": null,
      "metadata": {
        "id": "Ag0FCU2uP_iV"
      },
      "outputs": [],
      "source": []
    },
    {
      "cell_type": "markdown",
      "metadata": {
        "id": "f9mXytOd3wqx"
      },
      "source": [
        "Para entender o desempenho de vendas dos vendedores no ano de 2020, é preciso trabalhar com os dados que estão presentes apenas no ano de 2020."
      ]
    },
    {
      "cell_type": "code",
      "execution_count": null,
      "metadata": {
        "id": "01ks4iX7P-EH"
      },
      "outputs": [],
      "source": []
    },
    {
      "cell_type": "markdown",
      "metadata": {
        "id": "k5unl1CEruYG"
      },
      "source": [
        "# 4. Avançando nas relações"
      ]
    },
    {
      "cell_type": "markdown",
      "metadata": {
        "id": "t8A1eRy13_xm"
      },
      "source": [
        "A Meteora agora deseja incrementar as suas vendas no **estado de São Paulo (SP)**, por acreditar ser uma região mais propícia às vendas já que tem uma boa concentração de pessoas e mercado também.\n",
        "\n",
        "Mas será que São Paulo já não rende muitas vendas em relação a outros estados?"
      ]
    },
    {
      "cell_type": "code",
      "execution_count": null,
      "metadata": {
        "id": "ISFl7vCnPx-B"
      },
      "outputs": [],
      "source": []
    },
    {
      "cell_type": "markdown",
      "metadata": {
        "id": "cJxpfDVQ4Q0d"
      },
      "source": [
        "Uma das ações que a Meteora pretende seguir para as vendas em SP é escolher dois de seus vendedores para que eles **foquem suas vendas** lá. Para essa escolha é interessante ter os profissionais que **mais tenham vendido** para as pessoas da região."
      ]
    },
    {
      "cell_type": "code",
      "execution_count": null,
      "metadata": {
        "id": "dj0gQyUnPuLm"
      },
      "outputs": [],
      "source": []
    }
  ],
  "metadata": {
    "colab": {
      "collapsed_sections": [
        "c8k9ik5brubo",
        "k5unl1CEruYG"
      ],
      "provenance": []
    },
    "kernelspec": {
      "display_name": "Python 3",
      "name": "python3"
    },
    "language_info": {
      "codemirror_mode": {
        "name": "ipython",
        "version": 3
      },
      "file_extension": ".py",
      "mimetype": "text/x-python",
      "name": "python",
      "nbconvert_exporter": "python",
      "pygments_lexer": "ipython3",
      "version": "3.11.5"
    }
  },
  "nbformat": 4,
  "nbformat_minor": 0
}
